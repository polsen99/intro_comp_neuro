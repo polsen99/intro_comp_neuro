{
 "cells": [
  {
   "cell_type": "markdown",
   "metadata": {},
   "source": [
    "# Tutorial 6.4 - Orientation Selectivity in a Ring Model\n",
    "### Neuroscience goal:\n",
    "- see how contrast-invariant gain can arise from different network configurations\n",
    "### Computational goal:\n",
    "- simulate a large number of coupled ODEs, using arrays to store variables and their coupling constants\n",
    "\n",
    "### Overview\n",
    "- will simulate a network of 100 firing-rate model units (50 excitatory, 50 inhibitory)\n",
    "    - to investigate how connections within the network shape neural responses to external input\n",
    "- will compare feedforward model with recurrent circuit model\n",
    "\n",
    "set up two arrays, with `Nt` rows and 50 columns, where `Nt` is number of time points to be simulated\n",
    "- one array for excitatory cells and the other for inhibitory cells\n",
    "- simulation of 300ms with 0.1ms is sufficient"
   ]
  },
  {
   "cell_type": "code",
   "execution_count": 4,
   "metadata": {},
   "outputs": [],
   "source": [
    "import numpy as np\n",
    "import matplotlib.pyplot as plt"
   ]
  },
  {
   "cell_type": "code",
   "execution_count": 6,
   "metadata": {},
   "outputs": [],
   "source": [
    "dt = 0.1e-3\n",
    "t = np.arange(0, 0.3, dt)"
   ]
  },
  {
   "cell_type": "code",
   "execution_count": 7,
   "metadata": {},
   "outputs": [],
   "source": [
    "exc = np.zeros((len(t), 50))\n",
    "inh = np.zeros((len(t), 50))"
   ]
  },
  {
   "cell_type": "markdown",
   "metadata": {},
   "source": [
    "define three 50x50 connectivity matrices, each of which can be initialized with entries of zero\n",
    "- these are $W^{EE}, W^{EI}, W^{IE}$ (we ignore I-I connections in this tutorial)"
   ]
  },
  {
   "cell_type": "code",
   "execution_count": 8,
   "metadata": {},
   "outputs": [],
   "source": [
    "w_ee = np.zeros((50, 50))\n",
    "w_ei = np.zeros((50, 50))\n",
    "w_ie = np.zeros((50, 50))"
   ]
  },
  {
   "cell_type": "markdown",
   "metadata": {},
   "source": [
    "their firing rates will be treated as a linear function of inputs, dynamics following:\n",
    "\n",
    "$\\tau _E \\frac{dr_i^E}{dt} = -r_i^E + \\frac{1}{N} \\sum _j W_{ij}^{EE}r_j^E + \\frac{1}{N}\\sum _j W_{ij}^{IE}r_j^I + I_0^E + S_i^E $\n",
    "\n",
    "$ \\tau_ I \\frac{dr_i^I}{dt} = -r_i^I + \\frac{1}{N}\\sum _j W_{ij}^{EI}r_j^E + I_0^I + S_i^I $\n",
    "\n",
    "with additional conditions:\n",
    "\n",
    "$r_i^E > 0$ and $r_i^I > 0$ for all units and all times \n",
    "    \n",
    "in the preceeding equtions, $I_0^E$ and $I_0^I$ represnet baseline input to excitatory and inihibitory units, respectively\n",
    "- a negative value for these quantities is equivalent to a positive threshold on the f-I curve\n",
    "\n",
    "the stimulus-dependent inputs, $S_i^E$ and $S_i^I$, depend on the orientation preference of the unit labeled $i$\n",
    "- we define the orientation preference of each excitatory unit as: $\\theta_i = \\pi i / N$, where N=50 is the total number of units of a given type\n",
    "- we define the orientatio of the stimulus using $\\theta_{cue} = \\pi / 2$ \n",
    "\n",
    "- given these definitions, we use: \n",
    "\n",
    "    $ S_i^E = A_Ec[1 + \\epsilon * \\cos(2\\theta_{cue} - 2\\theta_i)]  $\n",
    "\n",
    "    $ S_i^I = A_Ic[1 + \\epsilon * \\cos(2\\theta_{cue} - 2\\theta_i)]  $\n",
    "\n",
    "    - with $c$ being the contrast, which will vary from 0 to 1\n",
    "    - $\\epsilon = 0.5$ represents the degree of modulation of input with orientation\n",
    "    - in this case producing a threefold increase in input from the null direction\n",
    "    (where $\\theta_{cue} = \\theta_i \\pi / 2$, so $\\cos(2\\theta_{cue} - 2\\theta_i) = -1$) to the preferred direction (where $\\theta_{cue} = \\theta_i$, so $\\cos(2\\theta_{cue} - 2\\theta_i) = +1$)"
   ]
  },
  {
   "cell_type": "markdown",
   "metadata": {},
   "source": [
    "other parameters depend on the network being simulated as follows:\n",
    "- network A:\n",
    "    - $\\tau_E = \\tau_I = $ 10ms\n",
    "    - $I_0^E = I_0^I = -10$\n",
    "    - $A_E = 40$\n",
    "    - $A_i^I = 40$\n",
    "    - $W_{ij}^{EE} = W_{ij}^{EI} = W_{ij}^{IE} = 0$\n",
    "\n",
    "- network B:\n",
    "    - $\\tau_E = \\tau_I = $ 10ms\n",
    "    - $I_0^E = I_0^I = -5$\n",
    "    - $A_E = 40$\n",
    "    - $A_i^I = 40$\n",
    "    - $W_{ij}^{EE} = W_{ij}^{EI} = 0$\n",
    "    - $W_{ij}^{IE} = -[1+\\cos(\\pi + 2\\theta_i - 2\\theta_j)] / N$\n",
    "\n",
    "- network C:\n",
    "    - $\\tau_E = $ 50ms\n",
    "    - $\\tau_I = $ 5ms\n",
    "    - $I_0^E = 2$\n",
    "    - $I_0^I = 0.5$\n",
    "    - $A_E = 100$\n",
    "    - $A_i^I = 0$\n",
    "    - $W_{ij}^{EE} = 5[1 +\\cos(2\\theta_i - 2\\theta_j)] / N$\n",
    "    - $W_{ij}^{EI} = 3[1 + \\cos(2\\theta_i - 2\\theta_j)] / N$\n",
    "    - $W_{ij}^{IE} = -4[1+\\cos(\\pi + 2\\theta_i - 2\\theta_j)] / N$"
   ]
  },
  {
   "cell_type": "markdown",
   "metadata": {},
   "source": [
    "#### Complete questions 1-4 using all (A, B, C) networks\n",
    "### 1. simulate network as function of time, with stimulus present\n",
    "- with all firing rates initially set at zero, simulate the network as a function of time, with the stimulus present the entire time\n",
    "- use contrasts of 0, 0.25, 0.50, 0.75, 1\n",
    "\n",
    "- *note*: firing rates can be stored as arrays, with each row representing a different time point and each column a different cell\n",
    "- allows to sum over all excitatory units providing input nto all excitatory cells within the network to be calculated using matrix multiplication\n",
    "    - e.g., `rE[i-1, :] * W_EE`\n",
    "\n",
    "- each entry in the row vector produced by the preceding segment of code represents the total within-network excitatory input to a unit\n",
    "- the `i-1` represents the previous time point, because firing rates at the previous time point are used when calculating input at the current time point, i"
   ]
  },
  {
   "cell_type": "code",
   "execution_count": null,
   "metadata": {},
   "outputs": [],
   "source": []
  }
 ],
 "metadata": {
  "kernelspec": {
   "display_name": "base",
   "language": "python",
   "name": "python3"
  },
  "language_info": {
   "codemirror_mode": {
    "name": "ipython",
    "version": 3
   },
   "file_extension": ".py",
   "mimetype": "text/x-python",
   "name": "python",
   "nbconvert_exporter": "python",
   "pygments_lexer": "ipython3",
   "version": "3.9.17"
  },
  "orig_nbformat": 4
 },
 "nbformat": 4,
 "nbformat_minor": 2
}
