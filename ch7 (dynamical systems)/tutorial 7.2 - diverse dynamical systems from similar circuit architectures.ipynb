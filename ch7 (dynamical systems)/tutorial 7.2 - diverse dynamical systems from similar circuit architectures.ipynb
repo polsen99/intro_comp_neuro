{
 "cells": [
  {
   "cell_type": "markdown",
   "metadata": {},
   "source": [
    "# Tutorial 7.2: Diverse Dynamical Systems from Similar Circuit Architectures\n",
    "### Neuroscience goal:\n",
    "- learn how near-identical circuits can produce very different types of activity\n",
    "- learn how highly simplified neural circuits cna nevertheless produce complex patterns of activity\n",
    "### Computational goal:\n",
    "- practice using matrices, arrays, to simulate coupled units\n",
    "- understand the idea of using a single function to simulate multiple types of circuit by changing particular parameters\n",
    "\n",
    "### Overview\n",
    "for each question, simulate a two-unit or three-unit circuit, with connection matrices defines as:\n",
    "\n",
    "$$\n",
    "\\underline{\\underline{W}} = {\\begin{pmatrix}\n",
    "W_{11} & W_{12} \\\\\n",
    "W_{21} & W_{22} \\\\\n",
    "\\end{pmatrix}}_{}\n",
    "$$\n",
    "\n",
    "or\n",
    "\n",
    "$$\n",
    "\\underline{\\underline{W}}= {\\begin{pmatrix}\n",
    "W_{11} & W_{12} & W_{13}\\\\\n",
    "W_{21} & W_{22} & W_{23}\\\\\n",
    "W_{31} & W_{32} & W_{33} \\\\\n",
    "\\end{pmatrix}}_{}\n",
    "$$\n",
    "\n",
    "respectively, where $W_{ji}$ is the connection strength from unit $j$ to unit $i$\n",
    "\n",
    "each unit, $i$, responds to a total input current, $I_i$, given by:\n",
    "\n",
    "$$\n",
    "I_i = I_i^{(app)} + \\sum_{j=1}^{N_{units}}W_{ji}r_j\n",
    "$$\n",
    "\n",
    "where $I_i^{(app)}$ is an external, applied current. each unit responds with a threshold-linear firing-rate curve, so that:\n",
    "\n",
    "$$\n",
    "\\tau \\frac{dr_i}{dt} = -r_i + I_i - \\Theta_i\n",
    "$$\n",
    "\n",
    "with time constant $\\tau$ = 10ms, and where $\\Theta_i$ is the threshold for unit $i$\n",
    "\n",
    "if the threshold is negative, it indicates the level of spontaneous activity in the unit in the absence of input current\n",
    "\n",
    "to ensure rates are positive and do not exceed a maximum, include the following constraint conditions:\n",
    "\n",
    "$\n",
    "0 \\le r_i \\le r_{max}\n",
    "$\n",
    "\n",
    "where $r_{max}$ = 100hz\n",
    "\n",
    "the values of connections strengths and threshold will vary across the nine circuits simulated\n",
    "\n",
    "for each circuit, determine what sort of dynamical system is produced\n",
    "- e.g., find number of distinct states within the circuit, or whether the system is chaotic, or possesses a heteroclinic sequence \n",
    "- use pulses of applied current or changes in initial conditions to aid in analysis\n"
   ]
  },
  {
   "cell_type": "code",
   "execution_count": 1,
   "metadata": {},
   "outputs": [],
   "source": [
    "import numpy as np\n",
    "import matplotlib.pyplot as plt"
   ]
  },
  {
   "cell_type": "code",
   "execution_count": 6,
   "metadata": {},
   "outputs": [],
   "source": [
    "# constants\n",
    "tau = 10e-3\n",
    "r_max = 100\n",
    "\n",
    "# time vector\n",
    "dt = 0.1e-3\n",
    "t = np.arange(0, 3, dt)"
   ]
  },
  {
   "cell_type": "code",
   "execution_count": 15,
   "metadata": {},
   "outputs": [],
   "source": [
    "# define functions\n",
    "\n",
    "# update ODE\n",
    "def update_r(r, i_app, w, theta):\n",
    "    n_units = len(r)\n",
    "    i_total = [i_app[i] + sum([w[i][j] * r[j] for j in range(n_units)]) for i in range(n_units)]\n",
    "    return [-r[i] + i_total[i] - theta[i] for i in range(n_units)]\n",
    "\n",
    "# run simulation\n",
    "def simulate_circuit(w, i_app, theta):\n",
    "    # initialize time, firing rate vectors\n",
    "    n_units = len(w)\n",
    "    r = np.zeros((n_units, len(t)))\n",
    "\n",
    "    # simulate over time\n",
    "    for i in range(1, len(t)):\n",
    "        drdt = update_r(r[:, i-1], i_app, w, theta)\n",
    "        r[:, i] = r[:, i-1] + np.multiply(drdt, dt)\n",
    "\n",
    "        # rates are positive and under r_max\n",
    "        r[:, i] = np.clip(r[:, i], 0, r_max) \n",
    "\n",
    "    return r\n",
    "\n",
    "# plotting\n",
    "def plot_dynamics(t, r):\n",
    "    fig, ax = plt.subplots()\n",
    "    for i, rates in enumerate(r):\n",
    "        ax.plot(t, rates, label=f'unit {i+1}')\n",
    "    \n",
    "    ax.set_xlabel('time (s)')\n",
    "    ax.set_ylabel('firing rate (hz)')\n",
    "    ax.legend()\n",
    "    plt.show()\n",
    "    \n"
   ]
  },
  {
   "cell_type": "markdown",
   "metadata": {},
   "source": [
    "### define params per question"
   ]
  },
  {
   "cell_type": "code",
   "execution_count": 29,
   "metadata": {},
   "outputs": [
    {
     "data": {
      "text/plain": [
       "[<matplotlib.lines.Line2D at 0x1b28e1026a0>]"
      ]
     },
     "execution_count": 29,
     "metadata": {},
     "output_type": "execute_result"
    },
    {
     "data": {
      "image/png": "[encoded data removed]",
      "text/plain": [
       "<Figure size 640x480 with 1 Axes>"
      ]
     },
     "metadata": {},
     "output_type": "display_data"
    }
   ],
   "source": [
    "# applied current options\n",
    "i_empty = np.zeros_like(t)\n",
    "i_stim = np.zeros_like(t)\n",
    "i_stim[10000:20000] += 10\n",
    "plt.plot(i_stim)"
   ]
  },
  {
   "cell_type": "code",
   "execution_count": 37,
   "metadata": {},
   "outputs": [],
   "source": [
    "# q1\n",
    "w1 = np.array([[0.6, 1],\n",
    "               [-0.2, 0]])\n",
    "theta1 = np.array([-5, -10])\n",
    "\n",
    "# q2\n",
    "w2 = np.array([[1.2, -0.3],\n",
    "               [-0.2, 1.1]])\n",
    "theta2 = np.array([10, 5])\n",
    "\n",
    "# q3\n",
    "w3 = np.array([[2.5, 2],\n",
    "               [-3.0, -2]])\n",
    "theta3 = np.array([-10, 0])\n",
    "\n",
    "# q4\n",
    "w4 = np.array([[0.8, -0.2],\n",
    "               [-0.4, 0.6]])\n",
    "theta4 = np.array([-10, -10])\n",
    "\n",
    "# q5\n",
    "w5 = np.array([[2, 1],\n",
    "               [-1.5, 0]])\n",
    "theta5 = np.array([0, 20])\n",
    "\n",
    "# q6\n",
    "w6 = np.array([[1.5, 0, 1],\n",
    "               [0, 2, 1],\n",
    "               [-2.5, -3, -1]])\n",
    "theta6 = np.array([-10, -5, 5])\n",
    "\n",
    "# q7\n",
    "w7 = np.array([[2.2, -0.5, 0.9],\n",
    "               [-0.7, 2, 1.2],\n",
    "               [-1.6, -1.2, 0]])\n",
    "theta7 = np.array([-18, -15, 0])\n",
    "\n",
    "# q8\n",
    "w8 = np.array([[2.05, -0.2, 1.2],\n",
    "               [-0.05, 2.1, 0.5],\n",
    "               [-1.6, -4, 0]])\n",
    "theta8 = np.array([-10, -20, 10])\n",
    "\n",
    "# q9\n",
    "w9 = np.array([[0.98, -0.015, -0.01],\n",
    "               [0, 0.99, -0.02],\n",
    "               [-0.02, 0.005, 1.01]])\n",
    "theta9 = np.array([-2, -1, -1])"
   ]
  },
  {
   "cell_type": "code",
   "execution_count": null,
   "metadata": {},
   "outputs": [],
   "source": [
    "parameter_sets = [\n",
    "    {\"w\": w1, \"theta\": theta1, \"question\": \"q1\"},\n",
    "    {\"w\": w2, \"theta\": theta2, \"question\": \"q2\"},\n",
    "    {\"w\": w3, \"theta\": theta3, \"question\": \"q3\"},\n",
    "    {\"w\": w4, \"theta\": theta4, \"question\": \"q4\"},\n",
    "    {\"w\": w5, \"theta\": theta5, \"question\": \"q5\"},\n",
    "    {\"w\": w6, \"theta\": theta6, \"question\": \"q6\"},\n",
    "    {\"w\": w7, \"theta\": theta7, \"question\": \"q7\"},\n",
    "    {\"w\": w8, \"theta\": theta8, \"question\": \"q8\"},\n",
    "    {\"w\": w9, \"theta\": theta9, \"question\": \"q9\"}\n",
    "]\n",
    "\n",
    "# Looping through each set of parameters:\n",
    "for params in parameter_sets:\n",
    "    print(f\"Simulating for {params['question']}\")\n",
    "    r = simulate_circuit(params['w'], i_stim, params['theta'])  # 'None' assumes you're not varying i_app in this setup.\n",
    "    plot_dynamics(t, r)\n"
   ]
  }
 ],
 "metadata": {
  "kernelspec": {
   "display_name": "base",
   "language": "python",
   "name": "python3"
  },
  "language_info": {
   "codemirror_mode": {
    "name": "ipython",
    "version": 3
   },
   "file_extension": ".py",
   "mimetype": "text/x-python",
   "name": "python",
   "nbconvert_exporter": "python",
   "pygments_lexer": "ipython3",
   "version": "3.9.17"
  }
 },
 "nbformat": 4,
 "nbformat_minor": 2
}
