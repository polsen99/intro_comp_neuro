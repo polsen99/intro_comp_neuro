{
 "cells": [
  {
   "cell_type": "markdown",
   "id": "7706ef1c",
   "metadata": {},
   "source": [
    "# Tutorial 3.1: Generating Receptive Fields with Spike-Triggered Averages\n",
    "\n",
    "## Neuroscience goal:\n",
    "- analyze receptive fields using the spike-triggered average\n",
    "\n",
    "## Computational goals: \n",
    "- use functoins\n",
    "- collapose or expand data into sets with different widths for time bins"
   ]
  },
  {
   "cell_type": "markdown",
   "id": "0242ef00",
   "metadata": {},
   "source": [
    "### Tutorial overview\n",
    "- simulate AELIF neuron, following dynamics described in tutorial 2.3 Q2, using parameters:\n",
    "    - e_leak = -60mV\n",
    "    - v_threshold = -50mV\n",
    "    - v_reset = -80mV\n",
    "    - delta_th = 2mV\n",
    "    - g_leak = 8nS\n",
    "    - c_membrane = 100pF\n",
    "    - a = 10nS\n",
    "    - b = 0.5nA\n",
    "    - tau_sra = 50ms\n",
    "\n",
    "- in both parts of the tutorial, goal is to use STA to assess what stimulus is best at producing spikes in the model neuron"
   ]
  },
  {
   "cell_type": "code",
   "execution_count": 3,
   "id": "c3ef1eab",
   "metadata": {},
   "outputs": [],
   "source": [
    "# Imports\n",
    "import numpy as np\n",
    "import matplotlib.pyplot as plt"
   ]
  },
  {
   "cell_type": "code",
   "execution_count": 46,
   "id": "577e17b8",
   "metadata": {},
   "outputs": [],
   "source": [
    "def set_params():\n",
    "    \"\"\"\n",
    "    Reset global parameters and initialize variables for simulation\n",
    "    \"\"\"\n",
    "    global e_leak, v_threshold, v_reset, delta_th, g_leak, c_membrane, a, b, tau_sra, v_peak, r_membrane\n",
    "\n",
    "    e_leak = -60           # Leak potential, mV\n",
    "    v_threshold = -50      # Spike threshold, mV\n",
    "    v_reset = -80          # Reset potential, mV\n",
    "    delta_th = 2           # Threshold decay, mV\n",
    "    g_leak = 8e-9          # Leak conductance, S\n",
    "    c_membrane = 1e-10     # Membrane capacitance, F\n",
    "    r_membrane = 100e6     # Membrane resistance, Ohm\n",
    "    a = 10e-9              # I_SRA control term, S\n",
    "    b = 5e-10              # I_SRA current step, A\n",
    "    tau_sra = 50e-3        # SRA time-constant\n",
    "    v_peak = 40            # Spike uptick, mV"
   ]
  },
  {
   "cell_type": "markdown",
   "id": "8ed0bf52",
   "metadata": {},
   "source": [
    "## Part A: Time-Varying Stimulus\n",
    "- will treat stimulus as a single input current that varies over time and assess what temporal variation of the stimulus is most likely to lead to a spike in the model neuron\n",
    "- will use a stimulus held constant for 5ms, then randomly replaced with a new stimulus\n",
    "\n",
    "### 1.\n",
    "- first goal is to simulate a neuron and record spike times \n",
    "\n",
    "#### a. \n",
    "- produce a vector of 40,000 values for the applied current, with each value chosen randomly from a uniform distribution between -0.5 and +0.5 nA\n",
    "- values will be used to produce successive 5ms blocks with the current fixed in each 5ms block\n"
   ]
  },
  {
   "cell_type": "code",
   "execution_count": 32,
   "id": "d51ed492",
   "metadata": {},
   "outputs": [],
   "source": [
    "currents = np.random.uniform(-5e-7, 5e-7, 40000)"
   ]
  },
  {
   "cell_type": "markdown",
   "id": "a60b00af",
   "metadata": {},
   "source": [
    "#### b. \n",
    "- create a time vector in steps of 0.02ms up to a total time of 40,000x5ms and an applied current vector of the same size as time vector\n",
    "- current vector should contain 40,000 randomly generated values from 1a), with each value repeated for 250 timesteps, so applied current is constant for 5ms before changing to new value\n"
   ]
  },
  {
   "cell_type": "code",
   "execution_count": 188,
   "id": "54a3d52b",
   "metadata": {},
   "outputs": [],
   "source": [
    "tmax = 40000*5e-3\n",
    "dt = 0.02e-3\n",
    "t = np.arange(0, tmax, dt)\n",
    "i_app = np.repeat(currents, 250)"
   ]
  },
  {
   "cell_type": "markdown",
   "id": "e19b0a87",
   "metadata": {},
   "source": [
    "#### c. \n",
    "- simulate AELIF neuron with applied current vector from 1b) using preceding parameters and equations for tutorial 2.3 Q2\n",
    "- use simulation timestep dt = 0.02ms\n",
    "- ensure all spikes are recorded in a vector of the size of the time vector with a 1 in each time bin that a spike occurs and 0s otherwise"
   ]
  },
  {
   "cell_type": "code",
   "execution_count": 215,
   "id": "26fbb61e",
   "metadata": {},
   "outputs": [],
   "source": [
    "# AELIF NEURON\n",
    "def run_aelif(i_app=i_app, sigma=0):\n",
    "    \n",
    "    v_sim = np.zeros_like(t)\n",
    "    v_sim[0] = e_leak\n",
    "    i_sra = np.zeros_like(t)\n",
    "    i_sra[0] = 0\n",
    "    spike_times = np.zeros_like(t)\n",
    "    \n",
    "    for i in range(1, t.shape[0]):\n",
    "        # New noise term each simulation\n",
    "        noise = np.random.rand() * sigma * np.sqrt(dt)\n",
    "        \n",
    "        # Membrane potential ODE\n",
    "        dvdt = (g_leak*((e_leak - v_sim[i - 1]) + delta_th * np.exp((v_sim[i - 1] - v_threshold)/delta_th)) - i_sra[i - 1] + i_app[i]) / c_membrane\n",
    "        # Forward Euler update\n",
    "        v_sim[i] = v_sim[i - 1] + (dt * dvdt) + noise\n",
    "        \n",
    "        # SRA current ODE\n",
    "        didt = ((a * (v_sim[i - 1] - e_leak)) - i_sra[i - 1]) / tau_sra\n",
    "        # Forward Euler update\n",
    "        i_sra[i] = i_sra[i - 1] + (dt * didt) + noise\n",
    "        \n",
    "        if v_sim[i] >= v_threshold:\n",
    "            v_sim[i] = v_reset\n",
    "            i_sra[i] = i_sra[i] + b\n",
    "            v_sim[i - 1] = v_peak\n",
    "            spike_times[i] = 1\n",
    "        \n",
    "    return v_sim, spike_times"
   ]
  },
  {
   "cell_type": "code",
   "execution_count": 208,
   "id": "488e9c6a",
   "metadata": {},
   "outputs": [],
   "source": [
    "set_params()\n",
    "v_sim, spike_times = run_aelif(i_app, 0)"
   ]
  },
  {
   "cell_type": "markdown",
   "id": "9e852fc3",
   "metadata": {},
   "source": [
    "### 2.\n",
    "- to improve efficiency of analysis, we will *downsample* the simulus and spike ectors\n",
    "- best achieved by writing a function _expandbin(initial_vector, initial_width, final_width)_\n",
    "    - returns output vector of smaller size than initial vector, with size reduced by factor equal to ratio of bin widths\n",
    "    - in this case, are simulating a neuron with time bin of 0.02ms, but only interested in changes on a timescale of 1ms(+)\n",
    "\n",
    "#### a. \n",
    "- to downsample:\n",
    "    - create function _expandbin()_\n",
    "    - find length of old vector and divide by scaling ratio of new/old bin size\n",
    "    - populate the new vector with the mean of successive blocks of entries of old vector"
   ]
  },
  {
   "cell_type": "code",
   "execution_count": 209,
   "id": "150a3366",
   "metadata": {},
   "outputs": [],
   "source": [
    "def expandbin(initial_vector, initial_width, final_width):\n",
    "    \"\"\"\n",
    "    Downsamples input vector by averaging values within specific widths\n",
    "    Args:\n",
    "        initial_vector (ndarray): input vector to be downsampled\n",
    "        initial_width (float): width between data points in old vector\n",
    "        final_width (float): width between data points in new vector\n",
    "    Returns:\n",
    "        result (ndarray): downsampled vector\n",
    "    \"\"\"\n",
    "    ratio = int(round(final_width / initial_width))\n",
    "    new_length = int(np.ceil(len(initial_vector) / ratio))\n",
    "    \n",
    "    reshaped_vector = initial_vector[:new_length * ratio].reshape(new_length, ratio)\n",
    "    result = np.mean(reshaped_vector, axis=1)\n",
    "    \n",
    "    return result\n"
   ]
  },
  {
   "cell_type": "markdown",
   "id": "7de546e0",
   "metadata": {},
   "source": [
    "#### b. \n",
    "- send to the function the applied current vector with dt = 0.02ms and new_dt = 1ms\n",
    "- send to the function the simulated vector of spike times\n",
    "    - since the spikes are defined as binary, change the reduced spike values in the return vector back to 1"
   ]
  },
  {
   "cell_type": "code",
   "execution_count": 210,
   "id": "1326f4db",
   "metadata": {},
   "outputs": [],
   "source": [
    "new_dt = 1e-3\n",
    "# Downsample applied current vector\n",
    "ds_i_app = expandbin(i_app, dt, new_dt)\n",
    "# Downsample spike time vector\n",
    "ds_spike_times = expandbin(spike_times, dt, new_dt)\n",
    "# Set reduced spike values back to 1\n",
    "ds_spike_times = np.where(ds_spike_times > 0, 1, ds_spike_times)\n"
   ]
  },
  {
   "cell_type": "markdown",
   "id": "4b114429",
   "metadata": {},
   "source": [
    "### 3.\n",
    "- produce and plot STA derived from the two downsample stimulus and spike time vectors\n",
    "- create and use another function, _sta()_, to achieve this\n",
    "\n",
    "#### a. \n",
    "- create the function:"
   ]
  },
  {
   "cell_type": "code",
   "execution_count": 212,
   "id": "0e17c518",
   "metadata": {},
   "outputs": [],
   "source": [
    "def get_sta(i_app, spikes, dt, t_minus=75e-3, t_plus=25e-3):\n",
    "    \"\"\"\n",
    "    Computes spike-triggered average\n",
    "    Args:\n",
    "        i_app (ndarray): vector of applied currents\n",
    "        spikes (ndarray): vector of binary values indicating spike times\n",
    "        dt (float): time step\n",
    "        t_minus (float, optional): time before spike\n",
    "        t_plus (float, optional): time after sike\n",
    "    Returns:\n",
    "        sta (ndarray): spike-triggered average at each timestep\n",
    "        tcorr (ndarray): time window vector\n",
    "    \"\"\"\n",
    "    # Number of time steps before and after spike\n",
    "    n_minus = int(np.ceil(t_minus/dt))\n",
    "    n_plus = int(np.ceil(t_plus/dt))\n",
    "    \n",
    "    # Initialize time window\n",
    "    t_corr = np.arange(-dt*n_minus, dt * (n_plus + 1), dt)\n",
    "    \n",
    "    # Find spike timepoint indices\n",
    "    spike_indices = np.where(spikes)[0]\n",
    "    \n",
    "    indices = spike_indices[:, np.newaxis] + np.arange(-n_minus, n_plus + 1)\n",
    "    indices = np.clip(indices, 0, len(i_app) - 1)\n",
    "    spike_values = i_app[indices]\n",
    "    sta = np.mean(spike_values, axis=0)\n",
    "    \n",
    "    return sta, tcorr"
   ]
  },
  {
   "cell_type": "markdown",
   "id": "cc81df42",
   "metadata": {},
   "source": [
    "#### *Note*:\n",
    "- it is easiest to ignore the spikes too near the beginning or end of the stimulus\n",
    "- if the time window for the STA is not much smaller than the stimulus duration, it is better if they are not ignored\n",
    "    - to avoid a loss of a large fraction of the data\n",
    "    - must be careful when averaging the stimulus: values in each time bin should be divided only by the number of spikes that contribute to that time bin, rather than the total number of spikes\n",
    "    - value of stimulus before/after end of trial is assumed to be zero, so a spike very early in the trial would otherwise contribute a lot of unwanted zeros to the average stimulus at earlier times\n",
    "\n",
    "\n",
    "#### b. \n",
    "- send downsampled applied current and spike train to the function get_sta()"
   ]
  },
  {
   "cell_type": "code",
   "execution_count": 213,
   "id": "b0445a6d",
   "metadata": {},
   "outputs": [
    {
     "name": "stdout",
     "output_type": "stream",
     "text": [
      "101 101\n"
     ]
    }
   ],
   "source": [
    "sta, tcorr = get_sta(ds_i_app, ds_spike_times, new_dt)\n",
    "sta\n",
    "print(len(sta), len(tcorr))"
   ]
  },
  {
   "cell_type": "markdown",
   "id": "06c492e6",
   "metadata": {},
   "source": [
    "#### c.\n",
    "- plot the STA as a function of the time window around the stimulus\n",
    "- to adopt conventional coordinates, x-axis should be the negative of the time window, to represent the time lag of the spike after the stimulus that produced it\n",
    "- STA at positive values of x denote a positive relationship\n"
   ]
  },
  {
   "cell_type": "code",
   "execution_count": 214,
   "id": "9d69b587",
   "metadata": {},
   "outputs": [
    {
     "data": {
      "image/png": "[encoded data removed]",
      "text/plain": [
       "<Figure size 640x480 with 1 Axes>"
      ]
     },
     "metadata": {},
     "output_type": "display_data"
    }
   ],
   "source": [
    "plt.plot(tcorr, sta)\n",
    "plt.title('STA vs. Time')\n",
    "plt.xlabel('time (s)')\n",
    "plt.ylabel('STA Current (A)')\n",
    "plt.grid()"
   ]
  },
  {
   "cell_type": "markdown",
   "id": "7192a25f",
   "metadata": {},
   "source": [
    "### Part B: Spatiotemporal Stimulus\n",
    "- include a stimulus that varies in both space and time\n",
    "- assume neuron's input current is a linear combination of the values of the stimulus at each spatial location\n",
    "    - weighted sum (where weights can be negative)\n",
    "- neuron receives a time-varying input current as in part A, but at each point in time the value of the input current depends on many values of the spatially varying stimulus\n",
    "- worth noting that while we discuss the additional coordinate of the stimulus as being spatial, the math aand code are identical if the stimulus coordinate is the frequency of an auditory stimulus"
   ]
  },
  {
   "cell_type": "markdown",
   "id": "93ec1646",
   "metadata": {},
   "source": [
    "#### 1a. \n",
    "- generate an array of 40 rows by 40,000 columns to ocntain the stimulus, S(x,t), with each entry randomly chosen from a uniform distribution between -0.5 and 0.5 nA\n"
   ]
  },
  {
   "cell_type": "markdown",
   "id": "f1aa0dd7",
   "metadata": {},
   "source": [
    "#### 1b. \n",
    "- assume the row number corresponds to the spatial coordinate, x, (with x_max = 40) and the input current to the cell, i_app(t), is given by the weighted sum of the stimulus at each spatial coordinate\n",
    "- according to:\n",
    "$$I_{app}(t) = \\Sigma^{X_{max}}_{x=1}W(x)S(x, t)$$\n",
    "\n",
    "with \n",
    "\n",
    "$$W(x) = cos[4\\pi(\\frac{x-x_0}{x_{max}})]e^{-16(\\frac{x-x_0}{x_{max}})^2} $$\n",
    "\n",
    "\n",
    "where $x_0$ = 20.5 is at the center of the spatial stimulus.\n",
    "\n",
    "- plot the input weight vector, W(x), (must be a 1x40 row vector) and generate the complete time-dependent input current as a row vector by direct matrix multiplication of the weight vector by the stimulus array\n"
   ]
  },
  {
   "cell_type": "markdown",
   "id": "a8deb741",
   "metadata": {},
   "source": [
    "#### 1c.\n",
    "- simulate the AELIF cell following the instructions of part A, with two parameters altered:\n",
    "    - a = 40nS\n",
    "    - b = 1nA\n",
    "    - and new input current\n",
    "- record spike times as 1 in a zero array"
   ]
  },
  {
   "cell_type": "markdown",
   "id": "2d98d033",
   "metadata": {},
   "source": [
    "#### 1d. \n",
    "- downsample the spikes array and 'upsample' the stimulus array to produce new, smaller arrays\n",
    "- be careful with stimulus array, since you must either carry out the upsampling one row at a time or adapt the function, expandbin, to handle arrays of greater than one dimension\n",
    "- while downsampling involves taking the mean of values from many bins to enter into one new bin, upsampling involves taking the value from one old bin and repeatedly entering it into many bins"
   ]
  },
  {
   "cell_type": "markdown",
   "id": "4cb67b46",
   "metadata": {},
   "source": [
    "#### 2\n",
    "- generate a new function (sta_spatial), by adapting _get_sta_\n",
    "- new function will take a 2-d array as input and return 2-d array as spike-triggered average\n",
    "- *hint*: a few changes are needed\n",
    "    - try a command like \"[Nspace, Nt] = size(stim_array)\" to extract the number of spatial and temporal bins and be careful using _mean_ to take the mean of a block of columns (since time varies from column to column) when downsampling rather than the mean of a block of rows"
   ]
  },
  {
   "cell_type": "markdown",
   "id": "7d7474c9",
   "metadata": {},
   "source": [
    "#### 3\n",
    "- use your new function to calculate the spatiotemporal receptive field\n",
    "- use command \"imagesc(fliplr(sta))\" to visualize the receptive field in the conventional manner \n",
    "- 'fliplr' reverses the order of the columns"
   ]
  },
  {
   "cell_type": "markdown",
   "id": "6d3ef94e",
   "metadata": {},
   "source": [
    "#### 4a. \n",
    "- plot rows 12, 20, and 28 of the receptive field.\n",
    "- how do they compare?"
   ]
  },
  {
   "cell_type": "markdown",
   "id": "061a7035",
   "metadata": {},
   "source": [
    "#### 4b. \n",
    "- plot columns 25, 50, 75 of the receptive field.\n",
    "- how do they compare?"
   ]
  }
 ],
 "metadata": {
  "kernelspec": {
   "display_name": "Python 3 (ipykernel)",
   "language": "python",
   "name": "python3"
  },
  "language_info": {
   "codemirror_mode": {
    "name": "ipython",
    "version": 3
   },
   "file_extension": ".py",
   "mimetype": "text/x-python",
   "name": "python",
   "nbconvert_exporter": "python",
   "pygments_lexer": "ipython3",
   "version": "3.9.13"
  }
 },
 "nbformat": 4,
 "nbformat_minor": 5
}
